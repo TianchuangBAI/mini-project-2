{
 "cells": [
  {
   "cell_type": "code",
   "execution_count": 1,
   "metadata": {},
   "outputs": [
    {
     "name": "stdout",
     "output_type": "stream",
     "text": [
      "      t  i   j       k           v        q\n",
      "0  2016  4  12  080132   26.313000    3.000\n",
      "1  2016  4  12  130190    1.507000    0.585\n",
      "2  2016  4  12  370239    1.121000    0.003\n",
      "3  2016  4  12  970600   17.236000    0.019\n",
      "4  2016  4  24  480300  315.120626  186.534\n"
     ]
    }
   ],
   "source": [
    "import dask.dataframe as dd\n",
    "\n",
    "file_paths = ['trade_data\\BACI_HS12_Y2016_V202001.csv',\n",
    "              'trade_data\\BACI_HS12_Y2017_V202001.csv',\n",
    "              'trade_data\\BACI_HS12_Y2018_V202001.csv']\n",
    "\n",
    "try:\n",
    "    df = dd.read_csv(file_paths, dtype={'k': 'object'}, encoding='iso-8859-1')\n",
    "except UnicodeDecodeError:\n",
    "    df = dd.read_csv(file_paths, dtype={'k': 'object'}, encoding='latin1')\n",
    "\n",
    "print(df.head())\n"
   ]
  },
  {
   "cell_type": "code",
   "execution_count": 2,
   "metadata": {},
   "outputs": [],
   "source": [
    "\n",
    "product_codes = dd.read_csv('trade_data\\product_codes_HS12_V202001.csv', encoding='iso-8859-1')\n",
    "country_codes = dd.read_csv('trade_data\\country_codes_V202001.csv', encoding='iso-8859-1')"
   ]
  },
  {
   "cell_type": "code",
   "execution_count": 3,
   "metadata": {},
   "outputs": [
    {
     "name": "stdout",
     "output_type": "stream",
     "text": [
      "Product codes columns: Index(['code', 'description'], dtype='object')\n",
      "Country codes columns: Index(['country_code', 'country_name_abbreviation', 'country_name_full',\n",
      "       'iso_2digit_alpha', 'iso_3digit_alpha'],\n",
      "      dtype='object')\n"
     ]
    }
   ],
   "source": [
    "\n",
    "print(\"Product codes columns:\", product_codes.columns)\n",
    "print(\"Country codes columns:\", country_codes.columns)"
   ]
  },
  {
   "cell_type": "code",
   "execution_count": 4,
   "metadata": {},
   "outputs": [
    {
     "name": "stdout",
     "output_type": "stream",
     "text": [
      "Top 10 countries with the most trading partners: 251    439.0\n",
      "826    436.0\n",
      "528    436.0\n",
      "724    435.0\n",
      "764    434.0\n",
      "276    434.0\n",
      "702    432.0\n",
      "381    431.0\n",
      "58     430.0\n",
      "842    429.0\n",
      "dtype: float64\n",
      "Bottom 10 countries with the fewest trading partners: 535    50.0\n",
      "666    60.0\n",
      "652    66.0\n",
      "162    67.0\n",
      "574    72.0\n",
      "260    74.0\n",
      "612    74.0\n",
      "876    75.0\n",
      "570    81.0\n",
      "583    82.0\n",
      "dtype: float64\n"
     ]
    }
   ],
   "source": [
    "\n",
    "trading_partners_import = df.groupby('i')['j'].nunique()\n",
    "trading_partners_export = df.groupby('j')['i'].nunique()\n",
    "\n",
    "trading_partners = (trading_partners_import + trading_partners_export).compute()\n",
    "\n",
    "top_10_countries = trading_partners.nlargest(10)\n",
    "print(\"Top 10 countries with the most trading partners:\", top_10_countries)\n",
    "\n",
    "bottom_10_countries = trading_partners.nsmallest(10)\n",
    "print(\"Bottom 10 countries with the fewest trading partners:\", bottom_10_countries)\n"
   ]
  },
  {
   "cell_type": "code",
   "execution_count": 5,
   "metadata": {},
   "outputs": [
    {
     "name": "stdout",
     "output_type": "stream",
     "text": [
      "Top five sectors by trade value: description\n",
      "Oils: petroleum oils and oils obtained from bituminous minerals, crude                                                                                                                                                                      2.552373e+09\n",
      "Petroleum oils and oils from bituminous minerals, not crude: preparations n.e.c. containing by weight 70% or more of petroleum oils or oils from bituminous minerals: these being the basic constituents of the preparations: waste oils    1.829220e+09\n",
      "Vehicles: spark-ignition internal combustion reciprocating piston engine, cylinder capacity exceeding 1500cc but not exceeding 3000cc                                                                                                       8.573921e+08\n",
      "Medicaments: consisting of mixed or unmixed products n.e.c. in heading no. 3004, for therapeutic or prophylactic uses, packaged for retail sale                                                                                             8.460212e+08\n",
      "Metals: gold, non-monetary, unwrought (but not powder)                                                                                                                                                                                      8.210957e+08\n",
      "Name: v, dtype: float64\n"
     ]
    }
   ],
   "source": [
    "\n",
    "df['k'] = df['k'].astype(str)  # 'k' 列转换为字符串\n",
    "product_codes['code'] = product_codes['code'].astype(str)   'code' 列转换为字符串\n",
    "df['i'] = df['i'].astype(str) \n",
    "country_codes['country_code'] = country_codes['country_code'].astype(str)  # 将 'country_code' 列转换为字符串\n",
    "\n",
    "# 正确的列名和数据类型进行合并\n",
    "df = df.merge(product_codes, left_on='k', right_on='code', how='left').merge(country_codes, left_on='i', right_on='country_code', how='left')\n",
    "\n",
    "trade_volume = df.groupby('description')['v'].sum().compute()\n",
    "\n",
    "# 打印贸易总值最高的五个部门\n",
    "top_sectors_by_value = trade_volume.nlargest(5)\n",
    "print(\"Top five sectors by trade value:\", top_sectors_by_value)"
   ]
  },
  {
   "cell_type": "code",
   "execution_count": 6,
   "metadata": {},
   "outputs": [
    {
     "name": "stdout",
     "output_type": "stream",
     "text": [
      "object\n"
     ]
    }
   ],
   "source": [
    "print(df['i'].dtype)\n",
    "\n",
    "df['i'] = df['i'].astype(str)\n"
   ]
  },
  {
   "cell_type": "code",
   "execution_count": 7,
   "metadata": {},
   "outputs": [
    {
     "name": "stdout",
     "output_type": "stream",
     "text": [
      "0     116\n",
      "1     120\n",
      "2     192\n",
      "3     251\n",
      "4     262\n",
      "     ... \n",
      "12    634\n",
      "13    654\n",
      "14    716\n",
      "15    776\n",
      "16    862\n",
      "Name: i, Length: 222, dtype: object\n"
     ]
    }
   ],
   "source": [
    "print(df['i'].unique().compute())  \n"
   ]
  },
  {
   "cell_type": "code",
   "execution_count": 8,
   "metadata": {},
   "outputs": [
    {
     "name": "stdout",
     "output_type": "stream",
     "text": [
      "Top 10 exports for USA: Series([], Name: v, dtype: float64)\n",
      "Top 10 exports for EU: Series([], Name: v, dtype: float64)\n",
      "Top 10 exports for China: Series([], Name: v, dtype: float64)\n",
      "Top 10 exports for Vietnam: Series([], Name: v, dtype: float64)\n",
      "Top 10 goods by trade value: k\n",
      "270900    2.552373e+09\n",
      "271000    1.829220e+09\n",
      "870323    8.573921e+08\n",
      "300490    8.460212e+08\n",
      "710812    8.210957e+08\n",
      "851712    8.084670e+08\n",
      "854239    4.706733e+08\n",
      "880240    4.560080e+08\n",
      "851762    4.345708e+08\n",
      "847130    4.077026e+08\n",
      "Name: v, dtype: float64\n",
      "Top 10 goods by trade quantity: k\n",
      "270900    6.735505e+09\n",
      "260111    4.143942e+09\n",
      "271000    3.799377e+09\n",
      "270112    3.193167e+09\n",
      "271111    2.950389e+09\n",
      "220190    1.487442e+09\n",
      "270119    1.156152e+09\n",
      "271121    1.141492e+09\n",
      "251710    6.183930e+08\n",
      "100199    5.450705e+08\n",
      "Name: q, dtype: float64\n"
     ]
    }
   ],
   "source": [
    "\n",
    "EU_country_codes = ['DEU', 'FRA', 'ITA', 'ESP', 'POL']\n",
    "\n",
    "usa_exports = df[df['i'] == 'USA']['v'].nlargest(10).compute()\n",
    "eu_exports = df[df['i'].isin(EU_country_codes)]['v'].nlargest(10).compute()\n",
    "china_exports = df[df['i'] == 'CHN']['v'].nlargest(10).compute()\n",
    "vietnam_exports = df[df['i'] == 'VNM']['v'].nlargest(10).compute()\n",
    "\n",
    "print(\"Top 10 exports for USA:\", usa_exports)\n",
    "print(\"Top 10 exports for EU:\", eu_exports)\n",
    "print(\"Top 10 exports for China:\", china_exports)\n",
    "print(\"Top 10 exports for Vietnam:\", vietnam_exports)\n",
    "\n",
    "\n",
    "top_goods_by_value = df.groupby('k')['v'].sum().nlargest(10).compute()\n",
    "top_goods_by_quantity = df.groupby('k')['q'].sum().nlargest(10).compute()\n",
    "\n",
    "print(\"Top 10 goods by trade value:\", top_goods_by_value)\n",
    "print(\"Top 10 goods by trade quantity:\", top_goods_by_quantity)\n"
   ]
  },
  {
   "cell_type": "code",
   "execution_count": 9,
   "metadata": {},
   "outputs": [
    {
     "name": "stderr",
     "output_type": "stream",
     "text": [
      "e:\\Python\\lib\\site-packages\\dask\\dataframe\\multi.py:520: UserWarning: Merging dataframes with merge column data type mismatches: \n",
      "+-----------------+------------+-------------+\n",
      "| Merge columns   | left dtype | right dtype |\n",
      "+-----------------+------------+-------------+\n",
      "| ('j', 'iso_a3') | object     | string      |\n",
      "+-----------------+------------+-------------+\n",
      "Cast dtypes explicitly to avoid unexpected results.\n",
      "  warnings.warn(\n"
     ]
    },
    {
     "data": {
      "image/png": "[encoded data removed]",
      "text/plain": [
       "<Figure size 1000x500 with 1 Axes>"
      ]
     },
     "metadata": {},
     "output_type": "display_data"
    }
   ],
   "source": [
    "import geopandas as gpd\n",
    "import numpy as np\n",
    "import matplotlib.pyplot as plt\n",
    "\n",
    "countries = gpd.read_file('countries_shapefile/cn_primary_countries.shp')\n",
    "\n",
    "# 修改坐标系\n",
    "countries = countries.to_crs(epsg=8857)\n",
    "countries['centroid'] = countries.geometry.centroid\n",
    "\n",
    "if 'iso_a3' in countries.columns:\n",
    "    usa_centroid = countries.loc[countries['iso_a3'] == 'USA', 'centroid'].values[0]\n",
    "    countries['distance'] = countries['centroid'].apply(lambda x: usa_centroid.distance(x))\n",
    "\n",
    "    df['j'] = df['j'].astype(str)\n",
    "    df = df.merge(countries[['iso_a3', 'distance']], left_on='j', right_on='iso_a3', how='left')\n",
    "\n",
    "    df['log_v'] = np.log1p(df['v'])\n",
    "    df['log_q'] = np.log1p(df['q'])\n",
    "\n",
    "    plt.figure(figsize=(10, 5))\n",
    "    plt.scatter(df['distance'], df['log_v'], alpha=0.5, label='Log Value')\n",
    "    plt.scatter(df['distance'], df['log_q'], color='red', alpha=0.5, label='Log Quantity')\n",
    "    plt.xlabel('Distance (km)')\n",
    "    plt.ylabel('Log of Trade Volume')\n",
    "    plt.title('Distance vs. Trade Volume in Log Scale')\n",
    "    plt.legend()\n",
    "    plt.show()\n",
    "else:\n",
    "    print(\"The 'iso_a3' column is not found in the countries dataframe.\")\n"
   ]
  },
  {
   "cell_type": "code",
   "execution_count": 10,
   "metadata": {},
   "outputs": [
    {
     "name": "stdout",
     "output_type": "stream",
     "text": [
      "Index(['ADM0_A3', 'abbrev', 'continent', 'formal_nam', 'iso_a2', 'iso_a3',\n",
      "       'iso_n3', 'iso_short', 'name', 'name_sort', 'postal', 'primary',\n",
      "       'short_name', 'sov_a3', 'sovereign', 'type', 'un_ar', 'un_en', 'un_es',\n",
      "       'un_fr', 'un_n3', 'un_region', 'un_ru', 'un_subregi', 'un_zh', 'wb_a2',\n",
      "       'wb_a3', 'wb_region', 'geometry', 'centroid', 'distance'],\n",
      "      dtype='object')\n"
     ]
    }
   ],
   "source": [
    "print(countries.columns)\n"
   ]
  },
  {
   "cell_type": "markdown",
   "metadata": {},
   "source": []
  },
  {
   "cell_type": "markdown",
   "metadata": {},
   "source": []
  },
  {
   "cell_type": "markdown",
   "metadata": {},
   "source": []
  },
  {
   "cell_type": "code",
   "execution_count": 11,
   "metadata": {},
   "outputs": [
    {
     "name": "stdout",
     "output_type": "stream",
     "text": [
      "   value_scaled  quantity_scaled  distance_scaled\n",
      "0  4.089618e-07     3.637758e-09              0.0\n",
      "1  8.191192e-09     7.093621e-10              0.0\n",
      "2  1.954900e-09     3.636790e-12              0.0\n",
      "3  2.623120e-07     2.303817e-11              0.0\n",
      "4  5.074995e-06     2.261886e-07              0.0\n"
     ]
    }
   ],
   "source": [
    "from sklearn.preprocessing import MinMaxScaler\n",
    "import pandas as pd\n",
    "\n",
    "\n",
    "features = df[['v', 'q', 'distance']] \n",
    "\n",
    "scaler = MinMaxScaler()\n",
    "\n",
    "features_scaled = scaler.fit_transform(features.fillna(0)) \n",
    "\n",
    "features_scaled_df = pd.DataFrame(features_scaled, columns=['value_scaled', 'quantity_scaled', 'distance_scaled'])\n",
    "\n",
    "print(features_scaled_df.head())\n"
   ]
  },
  {
   "cell_type": "code",
   "execution_count": 12,
   "metadata": {},
   "outputs": [
    {
     "data": {
      "image/png": "[encoded data removed]",
      "text/plain": [
       "<Figure size 800x400 with 1 Axes>"
      ]
     },
     "metadata": {},
     "output_type": "display_data"
    },
    {
     "ename": "TypeError",
     "evalue": "Column assignment doesn't support type <class 'numpy.ndarray'>",
     "output_type": "error",
     "traceback": [
      "\u001b[1;31m---------------------------------------------------------------------------\u001b[0m",
      "\u001b[1;31mTypeError\u001b[0m                                 Traceback (most recent call last)",
      "\u001b[1;32md:\\软件\\唐老鸭\\WeChat\\WeChat Files\\wxid_n10c0l7byfhf21\\FileStorage\\File\\2024-05\\Test.ipynb 单元格 15\u001b[0m line \u001b[0;36m2\n\u001b[0;32m     <a href='vscode-notebook-cell:/d%3A/%E8%BD%AF%E4%BB%B6/%E5%94%90%E8%80%81%E9%B8%AD/WeChat/WeChat%20Files/wxid_n10c0l7byfhf21/FileStorage/File/2024-05/Test.ipynb#X15sZmlsZQ%3D%3D?line=18'>19</a>\u001b[0m \u001b[39m# Assuming the optimal number of clusters is 3 (based on the elbow method plot)\u001b[39;00m\n\u001b[0;32m     <a href='vscode-notebook-cell:/d%3A/%E8%BD%AF%E4%BB%B6/%E5%94%90%E8%80%81%E9%B8%AD/WeChat/WeChat%20Files/wxid_n10c0l7byfhf21/FileStorage/File/2024-05/Test.ipynb#X15sZmlsZQ%3D%3D?line=19'>20</a>\u001b[0m kmeans \u001b[39m=\u001b[39m KMeans(n_clusters\u001b[39m=\u001b[39m\u001b[39m3\u001b[39m, random_state\u001b[39m=\u001b[39m\u001b[39m0\u001b[39m)\n\u001b[1;32m---> <a href='vscode-notebook-cell:/d%3A/%E8%BD%AF%E4%BB%B6/%E5%94%90%E8%80%81%E9%B8%AD/WeChat/WeChat%20Files/wxid_n10c0l7byfhf21/FileStorage/File/2024-05/Test.ipynb#X15sZmlsZQ%3D%3D?line=20'>21</a>\u001b[0m df[\u001b[39m'\u001b[39;49m\u001b[39mcluster\u001b[39;49m\u001b[39m'\u001b[39;49m] \u001b[39m=\u001b[39m kmeans\u001b[39m.\u001b[39mfit_predict(features_scaled_df)\n\u001b[0;32m     <a href='vscode-notebook-cell:/d%3A/%E8%BD%AF%E4%BB%B6/%E5%94%90%E8%80%81%E9%B8%AD/WeChat/WeChat%20Files/wxid_n10c0l7byfhf21/FileStorage/File/2024-05/Test.ipynb#X15sZmlsZQ%3D%3D?line=22'>23</a>\u001b[0m \u001b[39m# Preview the clusters\u001b[39;00m\n\u001b[0;32m     <a href='vscode-notebook-cell:/d%3A/%E8%BD%AF%E4%BB%B6/%E5%94%90%E8%80%81%E9%B8%AD/WeChat/WeChat%20Files/wxid_n10c0l7byfhf21/FileStorage/File/2024-05/Test.ipynb#X15sZmlsZQ%3D%3D?line=23'>24</a>\u001b[0m \u001b[39mprint\u001b[39m(df[[\u001b[39m'\u001b[39m\u001b[39mvalue_scaled\u001b[39m\u001b[39m'\u001b[39m, \u001b[39m'\u001b[39m\u001b[39mquantity_scaled\u001b[39m\u001b[39m'\u001b[39m, \u001b[39m'\u001b[39m\u001b[39mdistance_scaled\u001b[39m\u001b[39m'\u001b[39m, \u001b[39m'\u001b[39m\u001b[39mcluster\u001b[39m\u001b[39m'\u001b[39m]]\u001b[39m.\u001b[39mhead())\n",
      "File \u001b[1;32me:\\Python\\lib\\site-packages\\dask_expr\\_collection.py:3005\u001b[0m, in \u001b[0;36mDataFrame.__setitem__\u001b[1;34m(self, key, value)\u001b[0m\n\u001b[0;32m   3003\u001b[0m     \u001b[39mraise\u001b[39;00m \u001b[39mNotImplementedError\u001b[39;00m(\u001b[39mf\u001b[39m\u001b[39m\"\u001b[39m\u001b[39mItem assignment with \u001b[39m\u001b[39m{\u001b[39;00m\u001b[39mtype\u001b[39m(key)\u001b[39m}\u001b[39;00m\u001b[39m not supported\u001b[39m\u001b[39m\"\u001b[39m)\n\u001b[0;32m   3004\u001b[0m \u001b[39melse\u001b[39;00m:\n\u001b[1;32m-> 3005\u001b[0m     out \u001b[39m=\u001b[39m \u001b[39mself\u001b[39m\u001b[39m.\u001b[39massign(\u001b[39m*\u001b[39m\u001b[39m*\u001b[39m{key: value})\n\u001b[0;32m   3006\u001b[0m \u001b[39mself\u001b[39m\u001b[39m.\u001b[39m_expr \u001b[39m=\u001b[39m out\u001b[39m.\u001b[39m_expr\n",
      "File \u001b[1;32me:\\Python\\lib\\site-packages\\dask_expr\\_collection.py:2783\u001b[0m, in \u001b[0;36mDataFrame.assign\u001b[1;34m(self, **pairs)\u001b[0m\n\u001b[0;32m   2779\u001b[0m         v \u001b[39m=\u001b[39m from_dask_array(\n\u001b[0;32m   2780\u001b[0m             v, index\u001b[39m=\u001b[39mresult\u001b[39m.\u001b[39mindex\u001b[39m.\u001b[39mto_legacy_dataframe(), meta\u001b[39m=\u001b[39mresult\u001b[39m.\u001b[39m_meta\n\u001b[0;32m   2781\u001b[0m         )\n\u001b[0;32m   2782\u001b[0m     \u001b[39melse\u001b[39;00m:\n\u001b[1;32m-> 2783\u001b[0m         \u001b[39mraise\u001b[39;00m \u001b[39mTypeError\u001b[39;00m(\u001b[39mf\u001b[39m\u001b[39m\"\u001b[39m\u001b[39mColumn assignment doesn\u001b[39m\u001b[39m'\u001b[39m\u001b[39mt support type \u001b[39m\u001b[39m{\u001b[39;00m\u001b[39mtype\u001b[39m(v)\u001b[39m}\u001b[39;00m\u001b[39m\"\u001b[39m)\n\u001b[0;32m   2784\u001b[0m     args\u001b[39m.\u001b[39mextend([k, v])\n\u001b[0;32m   2786\u001b[0m \u001b[39mif\u001b[39;00m \u001b[39mlen\u001b[39m(args) \u001b[39m>\u001b[39m \u001b[39m0\u001b[39m:\n",
      "\u001b[1;31mTypeError\u001b[0m: Column assignment doesn't support type <class 'numpy.ndarray'>"
     ]
    }
   ],
   "source": [
    "from sklearn.cluster import KMeans\n",
    "import numpy as np\n",
    "\n",
    "inertia = []\n",
    "for k in range(1, 10):\n",
    "    kmeans = KMeans(n_clusters=k, random_state=0)\n",
    "    kmeans.fit(features_scaled_df)\n",
    "    inertia.append(kmeans.inertia_)\n",
    "\n",
    "# Plot the elbow curve\n",
    "plt.figure(figsize=(8, 4))\n",
    "plt.plot(range(1, 10), inertia, marker='o')\n",
    "plt.title('Elbow Method For Optimal k')\n",
    "plt.xlabel('Number of clusters')\n",
    "plt.ylabel('Inertia')\n",
    "plt.show()\n",
    "\n",
    "kmeans = KMeans(n_clusters=3, random_state=0)\n",
    "df['cluster'] = kmeans.fit_predict(features_scaled_df)\n",
    "\n",
    "print(df[['value_scaled', 'quantity_scaled', 'distance_scaled', 'cluster']].head())\n"
   ]
  },
  {
   "cell_type": "code",
   "execution_count": null,
   "metadata": {},
   "outputs": [],
   "source": [
    "from sklearn.decomposition import PCA\n",
    "\n",
    "pca = PCA(n_components=2)\n",
    "principal_components = pca.fit_transform(features_scaled_df)\n",
    "\n",
    "pca_df = pd.DataFrame(data=principal_components, columns=['principal_component_1', 'principal_component_2'])\n",
    "pca_df['cluster'] = df['cluster']\n",
    "\n",
    "plt.figure(figsize=(10, 6))\n",
    "scatter = plt.scatter(pca_df['principal_component_1'], pca_df['principal_component_2'], c=pca_df['cluster'], cmap='viridis')\n",
    "plt.title('PCA of Trade Data')\n",
    "plt.xlabel('Principal Component 1')\n",
    "plt.ylabel('Principal Component 2')\n",
    "plt.colorbar(scatter)\n",
    "plt.show()\n"
   ]
  },
  {
   "cell_type": "code",
   "execution_count": null,
   "metadata": {},
   "outputs": [],
   "source": [
    "\n",
    "cluster_analysis = df.groupby('cluster').mean()\n",
    "\n",
    "print(cluster_analysis[['v', 'q', 'distance']])\n",
    "\n",
    "print(\"Cluster Analysis Insights:\")\n",
    "print(\"Cluster 0: High trade volume, close distance\")\n",
    "print(\"Cluster 1: Low trade volume, farther distance\")\n",
    "print(\"Cluster 2: Medium trade volume, medium distance\")\n"
   ]
  }
 ],
 "metadata": {
  "kernelspec": {
   "display_name": "Python 3",
   "language": "python",
   "name": "python3"
  },
  "language_info": {
   "codemirror_mode": {
    "name": "ipython",
    "version": 3
   },
   "file_extension": ".py",
   "mimetype": "text/x-python",
   "name": "python",
   "nbconvert_exporter": "python",
   "pygments_lexer": "ipython3",
   "version": "3.10.2"
  }
 },
 "nbformat": 4,
 "nbformat_minor": 2
}
